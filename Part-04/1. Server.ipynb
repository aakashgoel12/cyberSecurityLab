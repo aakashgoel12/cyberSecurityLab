{
 "cells": [
  {
   "cell_type": "markdown",
   "id": "de322a3e-7ef7-4430-886b-6168cad95582",
   "metadata": {},
   "source": [
    "- Task: Developing a Program to Exchange Encrypted Messages Between Client-Server\n",
    "- Watch [Other Interesting Data Science Topics](https://www.youtube.com/channel/UC4yh4xPxRP0-bLG_ldnLCHA/videos)\n",
    "- Created By: **Aakash Goel**\n",
    "- Connect on [LinkedIn](https://www.linkedin.com/in/goelaakash123/)\n",
    "- Subscribe on [YouTube](https://www.youtube.com/channel/UC4yh4xPxRP0-bLG_ldnLCHA?sub_confirmation=1)\n",
    "- Created on: 12-FEB-2025\n",
    "- Last Updated on: 12-FEB-2025"
   ]
  },
  {
   "cell_type": "markdown",
   "id": "25e951bd-70a8-4480-a7ff-dd5c228d25ba",
   "metadata": {},
   "source": [
    "# Task: Developing a Program to Exchange Encrypted Messages Between Client-Server"
   ]
  },
  {
   "cell_type": "markdown",
   "id": "6adf218c-53a6-4a2f-b898-959b7bae4d9d",
   "metadata": {},
   "source": [
    "### Welcome to today's lab session !!\n",
    "\n",
    "We will develop a Python program to exchange encrypted messages between a client and a server. This is crucial in ensuring secure communication in smart manufacturing environments, where sensitive data is often transmitted between devices and systems.\n"
   ]
  },
  {
   "cell_type": "markdown",
   "id": "7276e5fd-f13a-4560-828d-d544119d4285",
   "metadata": {},
   "source": [
    "#### Motivation - Let's see demo first"
   ]
  },
  {
   "cell_type": "markdown",
   "id": "5a56abbe-0722-4e80-891f-7fa80257aeb3",
   "metadata": {},
   "source": [
    "### Encryption & Decryption\n",
    "- Encryption is the process of converting plain text into a coded format to prevent unauthorized access. \n",
    "- Decryption is the reverse process, converting the coded text back to plain text. In smart manufacturing, encryption ensures that\n",
    "  data transmitted between devices, such as PLCs and SCADA systems, remains secure from cyber threats."
   ]
  },
  {
   "cell_type": "markdown",
   "id": "1ff81a35-b04b-4c18-9633-9c9bf7ac1bb7",
   "metadata": {},
   "source": [
    "#### Client - Server Concept\n",
    "1. Client Program:\n",
    " - Initiates Communication: The client starts the conversation by sending an encrypted message.\n",
    " - Encrypts Messages: Before sending, the client encrypts the message.\n",
    " - Receives and Decrypts Responses: The client receives encrypted responses from the server and decrypts them.\n",
    "\n",
    "2. Server Program:\n",
    " - Listens for Messages: The server waits for the client to send a message.\n",
    " - Decrypts Messages: Upon receiving a message, the server decrypts it to understand the content.\n",
    " - Encrypts Responses: The server then encrypts its response before sending it back to the client."
   ]
  },
  {
   "cell_type": "markdown",
   "id": "cc67b21f-a24c-47cd-a312-c26bf2e2cf42",
   "metadata": {},
   "source": [
    "#### We import the Fernet class from the cryptography library. Fernet is a symmetric encryption method which means the same key is used for both encryption and decryption.\n"
   ]
  },
  {
   "cell_type": "code",
   "execution_count": 2,
   "id": "8aa8b1c9-3dc3-44f2-88e3-856c1844db01",
   "metadata": {},
   "outputs": [],
   "source": [
    "# Import necessary libraries  \n",
    "from cryptography.fernet import Fernet"
   ]
  },
  {
   "cell_type": "markdown",
   "id": "b3635ea1-0b6e-4276-a939-49e713d0764b",
   "metadata": {},
   "source": [
    "#### Generating a Key for Encryption and Decryption"
   ]
  },
  {
   "cell_type": "code",
   "execution_count": 4,
   "id": "2c05fd15-9088-46c7-bb86-78d98ed76cf1",
   "metadata": {},
   "outputs": [
    {
     "name": "stdout",
     "output_type": "stream",
     "text": [
      "b'y5qB3PBHOxoyMJCRzjkecdu2kGeSBMO0U1MDGoHxuCU='\n"
     ]
    }
   ],
   "source": [
    "##  generates a new key for encryption and decryption.\n",
    "key = Fernet.generate_key()\n",
    "print(key)"
   ]
  },
  {
   "cell_type": "code",
   "execution_count": 6,
   "id": "67a3ce52-c13e-4535-a0cf-8a8c318f266b",
   "metadata": {},
   "outputs": [
    {
     "name": "stdout",
     "output_type": "stream",
     "text": [
      "<cryptography.fernet.Fernet object at 0x000002D0BD3B2660>\n"
     ]
    }
   ],
   "source": [
    "## creates a Fernet object that we will use to encrypt and decrypt messages.\n",
    "cipher_suite = Fernet(key)\n",
    "print(cipher_suite)"
   ]
  },
  {
   "cell_type": "markdown",
   "id": "4f960089-c98c-4ca7-8955-2816fe6ce17d",
   "metadata": {},
   "source": [
    "#### What is a Socket?\n",
    " \n",
    "A socket is an endpoint for sending or receiving data across a computer network. It is a fundamental technology used in network programming to enable communication between different devices or processes over a network. Sockets provide a way to establish a connection between a client and a server, allowing them to exchange data.\n",
    "\n",
    "\n",
    "#### Analogy\n",
    "\n",
    "Imagine you have two toy walkie-talkies. You and your friend use these walkie-talkies to talk to each other. A socket is like the walkie-talkie for computers. It helps two computers talk to each other over the internet.\n",
    "\n",
    "A socket is a piece of software. It's not something you can touch or see like a toy. It's a special tool inside the computer that helps it send and receive messages.\n",
    "\n",
    "#### How Does a Socket Work?\n",
    "\n",
    "1. Creating a Socket:\n",
    "    - Think of this as turning on your walkie-talkie. You need to make sure it's ready to send and receive messages.\n",
    "    - In computer terms, we write a little code to create a socket.\n",
    "2. Connecting to Another Computer:\n",
    "    - Imagine you press a button on your walkie-talkie to connect to your friend's walkie-talkie.\n",
    "    - In computer terms, we tell the socket to connect to another computer using its address (like a phone number) and a port (like a specific channel on the walkie-talkie).\n",
    "3. Sending a Message:\n",
    "    - You press the talk button on your walkie-talkie and say, \"Hello!\"\n",
    "    - In computer terms, we use the socket to send a message to the other computer.\n",
    "4. Receiving a Message:\n",
    "    - Your friend hears your message and replies, \"Hi there!\"\n",
    "    - In computer terms, the socket listens for messages from the other computer and receives them.\n",
    "5. Closing the Connection:\n",
    "    - When you're done talking, you turn off your walkie-talkie.\n",
    "    - In computer terms, we close the socket to end the connection.\n",
    "\n",
    "\n",
    "#### Summary\n",
    "- **Socket:** A special tool inside the computer (software) that helps it talk to other computers, like a walkie-talkie for computers.\n",
    "- **Creating a Socket:** Turning on the walkie-talkie.\n",
    "- **Connecting:** Setting the walkie-talkie to the same channel as your friend's.\n",
    "- **Sending a Message:** Pressing the talk button and speaking.\n",
    "- **Receiving a Message:** Listening to your friend's reply.\n",
    "- **Closing the Connection:** Turning off the walkie-talkie when you're done."
   ]
  },
  {
   "cell_type": "markdown",
   "id": "326eefb6-ce80-454b-928d-5f1104cabd99",
   "metadata": {},
   "source": [
    "## Server Program"
   ]
  },
  {
   "cell_type": "markdown",
   "id": "f76e55b5-40bc-4cd4-b5c9-65b5a7b7cc85",
   "metadata": {},
   "source": [
    "#### Import the socket library to handle network connections. This is like getting your walkie-talkie ready to use."
   ]
  },
  {
   "cell_type": "code",
   "execution_count": 8,
   "id": "20129578-bcfa-43ab-90b2-c741a35e8e85",
   "metadata": {},
   "outputs": [],
   "source": [
    "import socket"
   ]
  },
  {
   "cell_type": "markdown",
   "id": "89c88658-12e7-4939-b8e2-a45c743aa9bb",
   "metadata": {},
   "source": [
    "#### Create a new socket object. This is like turning on your walkie-talkie."
   ]
  },
  {
   "cell_type": "code",
   "execution_count": 10,
   "id": "53564382-ddf7-4d93-8646-010629731fc8",
   "metadata": {},
   "outputs": [],
   "source": [
    "server_socket = socket.socket()"
   ]
  },
  {
   "cell_type": "markdown",
   "id": "3f908636-bf5a-41fa-b02c-cb9654c65c8e",
   "metadata": {},
   "source": [
    "#### This is like setting your walkie-talkie to a specific channel (e.g., channel 5)."
   ]
  },
  {
   "cell_type": "code",
   "execution_count": 12,
   "id": "1a37d365-9724-41d8-9d10-aafbdb01f349",
   "metadata": {},
   "outputs": [],
   "source": [
    "server_socket.bind(('localhost', 5000))  "
   ]
  },
  {
   "cell_type": "markdown",
   "id": "4560fa94-b493-4554-a2b5-8408307bbd8c",
   "metadata": {},
   "source": [
    "#### This is like waiting for your friend to turn on their walkie-talkie and connect to your channel."
   ]
  },
  {
   "cell_type": "code",
   "execution_count": 14,
   "id": "103e590e-5e1f-4601-8310-cd74480f5bcd",
   "metadata": {},
   "outputs": [],
   "source": [
    "server_socket.listen(1)"
   ]
  },
  {
   "cell_type": "markdown",
   "id": "1b8a4801-a71c-4861-a7e6-0118791e5ade",
   "metadata": {},
   "source": [
    "#### This is like hearing your friend's walkie-talkie connect to your channel and knowing they are ready to talk."
   ]
  },
  {
   "cell_type": "code",
   "execution_count": 16,
   "id": "94e0a1db-1e6a-4317-bd92-a36fd4a08920",
   "metadata": {},
   "outputs": [
    {
     "name": "stdout",
     "output_type": "stream",
     "text": [
      "Connection from: ('127.0.0.1', 62984)\n"
     ]
    }
   ],
   "source": [
    "conn, address = server_socket.accept()\n",
    "print(\"Connection from: \" + str(address))"
   ]
  },
  {
   "cell_type": "markdown",
   "id": "6092867f-b179-4195-9ad5-ece7004a2143",
   "metadata": {},
   "source": [
    "#### Send the encryption key to the client  "
   ]
  },
  {
   "cell_type": "code",
   "execution_count": 20,
   "id": "caed7b0d-65d5-4469-a7ac-00f821cd8f0c",
   "metadata": {},
   "outputs": [
    {
     "name": "stdout",
     "output_type": "stream",
     "text": [
      "Key sent to client - b'y5qB3PBHOxoyMJCRzjkecdu2kGeSBMO0U1MDGoHxuCU='\n"
     ]
    }
   ],
   "source": [
    "conn.send(key)  \n",
    "print(f\"Key sent to client - {key}\")"
   ]
  },
  {
   "cell_type": "markdown",
   "id": "75cd3214-bc7d-475e-a6af-efb35e56d8a9",
   "metadata": {},
   "source": [
    "#### This is like hearing a message from your friend's walkie-talkie. The number 1024 specifies the maximum number of bytes to read at once. The .decode() method converts the received bytes into a string. This is necessary because data is transmitted over the network in bytes, not in human-readable text."
   ]
  },
  {
   "cell_type": "code",
   "execution_count": 22,
   "id": "7cb0dc20-149f-4e5a-9328-a158c2efb7a3",
   "metadata": {},
   "outputs": [],
   "source": [
    "data = conn.recv(1024).decode()"
   ]
  },
  {
   "cell_type": "markdown",
   "id": "d9cb9c6d-8c67-4ed2-905d-177db0b6f421",
   "metadata": {},
   "source": [
    "#### Step 1: Convert the received string data into bytes  "
   ]
  },
  {
   "cell_type": "code",
   "execution_count": 23,
   "id": "1aaebb22-4f66-487c-ae29-2d0cbc594629",
   "metadata": {},
   "outputs": [],
   "source": [
    "encoded_data = data.encode()  # Like converting the coded message into a format your decoding tool can understand  "
   ]
  },
  {
   "cell_type": "markdown",
   "id": "79f39241-c0c7-473b-8ed8-3e029e69343e",
   "metadata": {},
   "source": [
    "#### Step 2: Decrypt the encoded data using the cipher_suite  "
   ]
  },
  {
   "cell_type": "code",
   "execution_count": 28,
   "id": "62560f93-d139-4160-8973-a23175b855c1",
   "metadata": {},
   "outputs": [],
   "source": [
    "decrypted_bytes = cipher_suite.decrypt(encoded_data)  # Like using your secret decoding tool to turn the coded message into plain text"
   ]
  },
  {
   "cell_type": "markdown",
   "id": "f86ebbc1-75d0-4a8c-9e31-19b372779c57",
   "metadata": {},
   "source": [
    "#### Step 3: Convert the decrypted bytes back into a string  "
   ]
  },
  {
   "cell_type": "code",
   "execution_count": 30,
   "id": "7022cd80-99e4-4627-86b7-896febaea3b4",
   "metadata": {},
   "outputs": [
    {
     "name": "stdout",
     "output_type": "stream",
     "text": [
      "Received from client: hi, how are you ?\n"
     ]
    }
   ],
   "source": [
    "decrypted_message = decrypted_bytes.decode()  # Like reading the decoded message in plain English         \n",
    "print(\"Received from client: \" + decrypted_message)  "
   ]
  },
  {
   "cell_type": "markdown",
   "id": "5039bb0f-3b9b-4691-8747-38e8b84d6cef",
   "metadata": {},
   "source": [
    "#### Step 4: Message"
   ]
  },
  {
   "cell_type": "code",
   "execution_count": 32,
   "id": "ffa5a70f-699d-44a1-97b1-5955398d7c18",
   "metadata": {},
   "outputs": [
    {
     "name": "stdin",
     "output_type": "stream",
     "text": [
      "Enter message to send:  i am good\n"
     ]
    }
   ],
   "source": [
    "message = input(\"Enter message to send: \")"
   ]
  },
  {
   "cell_type": "markdown",
   "id": "3372a82a-eea6-4889-acdf-35fb7e31beef",
   "metadata": {},
   "source": [
    "#### Step 5: Encrypt & send the message"
   ]
  },
  {
   "cell_type": "code",
   "execution_count": 34,
   "id": "90c0aa21-a678-47c4-8a8b-7c65da92d089",
   "metadata": {},
   "outputs": [
    {
     "data": {
      "text/plain": [
       "100"
      ]
     },
     "execution_count": 34,
     "metadata": {},
     "output_type": "execute_result"
    }
   ],
   "source": [
    "encrypted_message = cipher_suite.encrypt(message.encode())  \n",
    "conn.send(encrypted_message)  "
   ]
  },
  {
   "cell_type": "code",
   "execution_count": null,
   "id": "11af8839-0dce-4a86-b2b2-17680660158a",
   "metadata": {},
   "outputs": [],
   "source": [
    "conn.close()"
   ]
  }
 ],
 "metadata": {
  "kernelspec": {
   "display_name": "Python [conda env:base] *",
   "language": "python",
   "name": "conda-base-py"
  },
  "language_info": {
   "codemirror_mode": {
    "name": "ipython",
    "version": 3
   },
   "file_extension": ".py",
   "mimetype": "text/x-python",
   "name": "python",
   "nbconvert_exporter": "python",
   "pygments_lexer": "ipython3",
   "version": "3.12.7"
  }
 },
 "nbformat": 4,
 "nbformat_minor": 5
}
