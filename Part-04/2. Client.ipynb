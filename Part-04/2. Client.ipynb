{
 "cells": [
  {
   "cell_type": "markdown",
   "id": "7764cb1d-c5ab-4230-8ff0-95d5860670e2",
   "metadata": {},
   "source": [
    "- Task: Developing a Program to Exchange Encrypted Messages Between Client-Server\n",
    "- Watch [Other Interesting Data Science Topics](https://www.youtube.com/channel/UC4yh4xPxRP0-bLG_ldnLCHA/videos)\n",
    "- Created By: **Aakash Goel**\n",
    "- Connect on [LinkedIn](https://www.linkedin.com/in/goelaakash123/)\n",
    "- Subscribe on [YouTube](https://www.youtube.com/channel/UC4yh4xPxRP0-bLG_ldnLCHA?sub_confirmation=1)\n",
    "- Created on: 12-FEB-2025\n",
    "- Last Updated on: 12-FEB-2025"
   ]
  },
  {
   "cell_type": "markdown",
   "id": "25e951bd-70a8-4480-a7ff-dd5c228d25ba",
   "metadata": {},
   "source": [
    "# Task: Developing a Program to Exchange Encrypted Messages Between Client-Server\n"
   ]
  },
  {
   "cell_type": "markdown",
   "id": "6adf218c-53a6-4a2f-b898-959b7bae4d9d",
   "metadata": {},
   "source": [
    "### Welcome to today's lab session !!\n",
    "\n",
    "We will develop a Python program to exchange encrypted messages between a client and a server. This is crucial in ensuring secure communication in smart manufacturing environments, where sensitive data is often transmitted between devices and systems.\n"
   ]
  },
  {
   "cell_type": "markdown",
   "id": "7276e5fd-f13a-4560-828d-d544119d4285",
   "metadata": {},
   "source": [
    "#### Motivation - Let's see demo first"
   ]
  },
  {
   "cell_type": "markdown",
   "id": "5a56abbe-0722-4e80-891f-7fa80257aeb3",
   "metadata": {},
   "source": [
    "### Encryption & Decryption\n",
    "- Encryption is the process of converting plain text into a coded format to prevent unauthorized access. \n",
    "- Decryption is the reverse process, converting the coded text back to plain text. In smart manufacturing, encryption ensures that\n",
    "  data transmitted between devices, such as PLCs and SCADA systems, remains secure from cyber threats."
   ]
  },
  {
   "cell_type": "markdown",
   "id": "1ff81a35-b04b-4c18-9633-9c9bf7ac1bb7",
   "metadata": {},
   "source": [
    "#### Client - Server Concept\n",
    "1. Client Program:\n",
    " - Initiates Communication: The client starts the conversation by sending an encrypted message.\n",
    " - Encrypts Messages: Before sending, the client encrypts the message.\n",
    " - Receives and Decrypts Responses: The client receives encrypted responses from the server and decrypts them.\n",
    "\n",
    "2. Server Program:\n",
    " - Listens for Messages: The server waits for the client to send a message.\n",
    " - Decrypts Messages: Upon receiving a message, the server decrypts it to understand the content.\n",
    " - Encrypts Responses: The server then encrypts its response before sending it back to the client."
   ]
  },
  {
   "cell_type": "markdown",
   "id": "cc67b21f-a24c-47cd-a312-c26bf2e2cf42",
   "metadata": {},
   "source": [
    "#### We import the Fernet class from the cryptography library. Fernet is a symmetric encryption method which means the same key is used for both encryption and decryption.\n"
   ]
  },
  {
   "cell_type": "code",
   "execution_count": 1,
   "id": "8aa8b1c9-3dc3-44f2-88e3-856c1844db01",
   "metadata": {},
   "outputs": [],
   "source": [
    "# Import necessary libraries  \n",
    "from cryptography.fernet import Fernet"
   ]
  },
  {
   "cell_type": "markdown",
   "id": "4f960089-c98c-4ca7-8955-2816fe6ce17d",
   "metadata": {},
   "source": [
    "#### What is a Socket?\n",
    " \n",
    "A socket is an endpoint for sending or receiving data across a computer network. It is a fundamental technology used in network programming to enable communication between different devices or processes over a network. Sockets provide a way to establish a connection between a client and a server, allowing them to exchange data.\n",
    "\n",
    "\n",
    "#### Analogy\n",
    "\n",
    "Imagine you have two toy walkie-talkies. You and your friend use these walkie-talkies to talk to each other. A socket is like the walkie-talkie for computers. It helps two computers talk to each other over the internet.\n",
    "\n",
    "A socket is a piece of software. It's not something you can touch or see like a toy. It's a special tool inside the computer that helps it send and receive messages.\n",
    "\n",
    "#### How Does a Socket Work?\n",
    "\n",
    "1. Creating a Socket:\n",
    "    - Think of this as turning on your walkie-talkie. You need to make sure it's ready to send and receive messages.\n",
    "    - In computer terms, we write a little code to create a socket.\n",
    "2. Connecting to Another Computer:\n",
    "    - Imagine you press a button on your walkie-talkie to connect to your friend's walkie-talkie.\n",
    "    - In computer terms, we tell the socket to connect to another computer using its address (like a phone number) and a port (like a specific channel on the walkie-talkie).\n",
    "3. Sending a Message:\n",
    "    - You press the talk button on your walkie-talkie and say, \"Hello!\"\n",
    "    - In computer terms, we use the socket to send a message to the other computer.\n",
    "4. Receiving a Message:\n",
    "    - Your friend hears your message and replies, \"Hi there!\"\n",
    "    - In computer terms, the socket listens for messages from the other computer and receives them.\n",
    "5. Closing the Connection:\n",
    "    - When you're done talking, you turn off your walkie-talkie.\n",
    "    - In computer terms, we close the socket to end the connection.\n",
    "\n",
    "\n",
    "#### Summary\n",
    "- **Socket:** A special tool inside the computer (software) that helps it talk to other computers, like a walkie-talkie for computers.\n",
    "- **Creating a Socket:** Turning on the walkie-talkie.\n",
    "- **Connecting:** Setting the walkie-talkie to the same channel as your friend's.\n",
    "- **Sending a Message:** Pressing the talk button and speaking.\n",
    "- **Receiving a Message:** Listening to your friend's reply.\n",
    "- **Closing the Connection:** Turning off the walkie-talkie when you're done."
   ]
  },
  {
   "cell_type": "markdown",
   "id": "ae4c68ee-738a-402d-8f89-6f154f8fa721",
   "metadata": {},
   "source": [
    "## Client Side"
   ]
  },
  {
   "cell_type": "markdown",
   "id": "cd4bceb1-80e9-43a3-985b-d10c371769c1",
   "metadata": {},
   "source": [
    "#### Import the socket library to handle network connections. This is like getting your walkie-talkie ready to use.\n"
   ]
  },
  {
   "cell_type": "code",
   "execution_count": 5,
   "id": "64031a8e-66ed-44bf-b459-015362e7d3bd",
   "metadata": {},
   "outputs": [],
   "source": [
    "import socket"
   ]
  },
  {
   "cell_type": "markdown",
   "id": "5772aba8-756c-4a83-8e00-4e31174e7178",
   "metadata": {},
   "source": [
    "#### Create a new socket object. Connect to the server running on the local host and port 5000 (like tuning your walkie-talkie to the same channel as your friend's)."
   ]
  },
  {
   "cell_type": "code",
   "execution_count": 7,
   "id": "2d8191ec-032f-4d81-a425-c7418648b6eb",
   "metadata": {},
   "outputs": [],
   "source": [
    "client_socket = socket.socket()"
   ]
  },
  {
   "cell_type": "markdown",
   "id": "89932925-7d27-4797-a5c1-bf77617d06fb",
   "metadata": {},
   "source": [
    "#### This is like setting your walkie-talkie to a specific channel (e.g., channel 5)."
   ]
  },
  {
   "cell_type": "code",
   "execution_count": 9,
   "id": "fccd288b-062c-4753-a678-ecbda087346e",
   "metadata": {},
   "outputs": [],
   "source": [
    "client_socket.connect(('localhost', 5000))"
   ]
  },
  {
   "cell_type": "markdown",
   "id": "ee473b6b-3915-4291-bf54-781513567df7",
   "metadata": {},
   "source": [
    "#### Receive the encryption key from the server  "
   ]
  },
  {
   "cell_type": "code",
   "execution_count": 12,
   "id": "a7da52c4-5e6f-49aa-a054-75ec910046ba",
   "metadata": {},
   "outputs": [
    {
     "name": "stdout",
     "output_type": "stream",
     "text": [
      "Server key received to client : b'y5qB3PBHOxoyMJCRzjkecdu2kGeSBMO0U1MDGoHxuCU='\n"
     ]
    }
   ],
   "source": [
    "key = client_socket.recv(1024)\n",
    "print(f\"Server key received to client : {key}\")\n",
    "cipher_suite = Fernet(key)"
   ]
  },
  {
   "cell_type": "markdown",
   "id": "3a845635-ff57-4714-99d4-66b24e7bf0cd",
   "metadata": {},
   "source": [
    "#### Prompt the client user to enter a message to send (like you pressing the talk button and saying something)."
   ]
  },
  {
   "cell_type": "code",
   "execution_count": 14,
   "id": "cced90ad-c840-43e3-9836-fc6ee5cabb83",
   "metadata": {},
   "outputs": [
    {
     "name": "stdin",
     "output_type": "stream",
     "text": [
      "Enter message to send:  hi, how are you ?\n"
     ]
    }
   ],
   "source": [
    "message = input(\"Enter message to send: \")"
   ]
  },
  {
   "cell_type": "markdown",
   "id": "47bb697c-4755-42c1-b76c-86159878bd31",
   "metadata": {},
   "source": [
    "#### Encoding the message\n",
    " - The encode() method converts the string message into bytes. This is necessary because the encryption function requires the input to be in bytes, not a string.\n",
    " - Computers and network protocols often work with bytes (binary data) rather than strings. Encoding converts the string into a format suitable for encryption and transmission over a network."
   ]
  },
  {
   "cell_type": "code",
   "execution_count": 16,
   "id": "61504bc4-89a7-4110-9eb5-13d06fc718a1",
   "metadata": {},
   "outputs": [],
   "source": [
    "encoded_message = message.encode()"
   ]
  },
  {
   "cell_type": "markdown",
   "id": "74845445-3516-456f-8272-26cd7258591b",
   "metadata": {},
   "source": [
    "#### Encrypt the encoded message - like turning your message into a secret code\n",
    " - The encrypt() method of the cipher_suite object takes the encoded bytes and encrypts them, producing an encrypted byte string.\n",
    " - Result: The encrypted_message is now an encrypted version of the original message, in bytes."
   ]
  },
  {
   "cell_type": "code",
   "execution_count": 18,
   "id": "e62190c3-0003-4261-bf00-b1b1fd0b1a54",
   "metadata": {},
   "outputs": [],
   "source": [
    "encrypted_message = cipher_suite.encrypt(encoded_message)"
   ]
  },
  {
   "cell_type": "markdown",
   "id": "5e2de1f9-b33c-4a4f-a328-c3ffcc2333f0",
   "metadata": {},
   "source": [
    "#### Send the encrypted message to the server (like sending the secret message to your friend's walkie-talkie)."
   ]
  },
  {
   "cell_type": "code",
   "execution_count": 20,
   "id": "3bc3c57d-ae62-4f5b-82f0-5f0e66fb6a3b",
   "metadata": {},
   "outputs": [
    {
     "data": {
      "text/plain": [
       "120"
      ]
     },
     "execution_count": 20,
     "metadata": {},
     "output_type": "execute_result"
    }
   ],
   "source": [
    "client_socket.send(encrypted_message)"
   ]
  },
  {
   "cell_type": "markdown",
   "id": "14fc68a2-7061-43d1-8946-4251882846a7",
   "metadata": {},
   "source": [
    "#### Receive data from the server (like hearing a message from your friend's walkie-talkie)."
   ]
  },
  {
   "cell_type": "code",
   "execution_count": 22,
   "id": "137f020f-312e-4b66-bb05-151f5dd64c60",
   "metadata": {},
   "outputs": [],
   "source": [
    "data = client_socket.recv(1024).decode()"
   ]
  },
  {
   "cell_type": "markdown",
   "id": "78fc5891-3bcd-43ca-8b2b-d0bb614a4374",
   "metadata": {},
   "source": [
    "#### Decrypt the received data and decode it to a string (like using your secret decoding tool to understand the message)."
   ]
  },
  {
   "cell_type": "code",
   "execution_count": 24,
   "id": "6d7b8c02-f356-4c12-b3d7-2254727fcde2",
   "metadata": {},
   "outputs": [],
   "source": [
    "decrypted_message = cipher_suite.decrypt(data.encode()).decode()"
   ]
  },
  {
   "cell_type": "code",
   "execution_count": 26,
   "id": "a3c4ee4c-17ce-4776-8022-ff76a6396a7d",
   "metadata": {},
   "outputs": [
    {
     "name": "stdout",
     "output_type": "stream",
     "text": [
      "Received from server: i am good\n"
     ]
    }
   ],
   "source": [
    "print(\"Received from server: \" + decrypted_message)  "
   ]
  }
 ],
 "metadata": {
  "kernelspec": {
   "display_name": "Python [conda env:base] *",
   "language": "python",
   "name": "conda-base-py"
  },
  "language_info": {
   "codemirror_mode": {
    "name": "ipython",
    "version": 3
   },
   "file_extension": ".py",
   "mimetype": "text/x-python",
   "name": "python",
   "nbconvert_exporter": "python",
   "pygments_lexer": "ipython3",
   "version": "3.12.7"
  }
 },
 "nbformat": 4,
 "nbformat_minor": 5
}
